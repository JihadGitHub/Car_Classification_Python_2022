{
 "cells": [
  {
   "cell_type": "code",
   "execution_count": 1,
   "id": "a8824efd",
   "metadata": {},
   "outputs": [
    {
     "name": "stdout",
     "output_type": "stream",
     "text": [
      "['SUPER CAR']\n",
      "['ECO CAR / B-SEGMENT']\n",
      "['BUS']\n",
      "['VAN']\n",
      "['MINI VAN']\n",
      "['MOTERCYCLE']\n"
     ]
    }
   ],
   "source": [
    "from sklearn import tree\n",
    "features = [[120, 5], [251, 45], [180, 12], [163, 7], [765, 2], [9, 2]]\n",
    "labels = [\"ECO CAR / B-SEGMENT\", \"BUS\", \"VAN\", \"MINI VAN\", \"SUPER CAR\", \"MOTERCYCLE\"]\n",
    "classifier = tree.DecisionTreeClassifier()\n",
    "classifier = classifier.fit(features, labels)\n",
    "print(classifier.predict([[1000, 2]])) \n",
    "\n",
    "features = [[120, 5], [251, 45], [180, 12], [163, 7], [765, 2], [9, 2]]\n",
    "labels = [\"ECO CAR / B-SEGMENT\", \"BUS\", \"VAN\", \"MINI VAN\", \"SUPER CAR\", \"MOTERCYCLE\"]\n",
    "classifier = tree.DecisionTreeClassifier()\n",
    "classifier = classifier.fit(features, labels)\n",
    "print(classifier.predict([[150, 5]])) \n",
    "\n",
    "features = [[120, 5], [251, 45], [180, 12], [163, 7], [765, 2], [9, 2]]\n",
    "labels = [\"ECO CAR / B-SEGMENT\", \"BUS\", \"VAN\", \"MINI VAN\", \"SUPER CAR\", \"MOTERCYCLE\"]\n",
    "classifier = tree.DecisionTreeClassifier()\n",
    "classifier = classifier.fit(features, labels)\n",
    "print(classifier.predict([[300, 45]])) \n",
    "\n",
    "features = [[120, 5], [251, 45], [180, 12], [163, 7], [765, 2], [9, 2]]\n",
    "labels = [\"ECO CAR / B-SEGMENT\", \"BUS\", \"VAN\", \"MINI VAN\", \"SUPER CAR\", \"MOTERCYCLE\"]\n",
    "classifier = tree.DecisionTreeClassifier()\n",
    "classifier = classifier.fit(features, labels)\n",
    "print(classifier.predict([[200, 12]])) \n",
    "\n",
    "features = [[120, 5], [251, 45], [180, 12], [163, 7], [765, 2], [9, 2]]\n",
    "labels = [\"ECO CAR / B-SEGMENT\", \"BUS\", \"VAN\", \"MINI VAN\", \"SUPER CAR\", \"MOTERCYCLE\"]\n",
    "classifier = tree.DecisionTreeClassifier()\n",
    "classifier = classifier.fit(features, labels)\n",
    "print(classifier.predict([[170, 7]])) \n",
    "\n",
    "features = [[120, 5], [251, 45], [180, 12], [163, 7], [765, 2], [9, 2]]\n",
    "labels = [\"ECO CAR / B-SEGMENT\", \"BUS\", \"VAN\", \"MINI VAN\", \"SUPER CAR\", \"MOTERCYCLE\"]\n",
    "classifier = tree.DecisionTreeClassifier()\n",
    "classifier = classifier.fit(features, labels)\n",
    "print(classifier.predict([[50, 2]])) "
   ]
  },
  {
   "cell_type": "code",
   "execution_count": null,
   "id": "0fb4ff0a",
   "metadata": {},
   "outputs": [],
   "source": []
  }
 ],
 "metadata": {
  "kernelspec": {
   "display_name": "Python 3 (ipykernel)",
   "language": "python",
   "name": "python3"
  },
  "language_info": {
   "codemirror_mode": {
    "name": "ipython",
    "version": 3
   },
   "file_extension": ".py",
   "mimetype": "text/x-python",
   "name": "python",
   "nbconvert_exporter": "python",
   "pygments_lexer": "ipython3",
   "version": "3.9.7"
  }
 },
 "nbformat": 4,
 "nbformat_minor": 5
}
